{
  "cells": [
    {
      "cell_type": "markdown",
      "source": [
        "### **Data Preprocess**"
      ],
      "metadata": {
        "id": "o3TdOFnMTRPb"
      },
      "id": "o3TdOFnMTRPb"
    },
    {
      "cell_type": "code",
      "execution_count": null,
      "id": "755a4886",
      "metadata": {
        "id": "755a4886"
      },
      "outputs": [],
      "source": [
        "import pandas as pd\n",
        "import os\n",
        "import networkx as nx\n",
        "from networkx.algorithms import bipartite\n",
        "import matplotlib.pyplot as plt\n",
        "import numpy as np\n",
        "import pickle"
      ]
    },
    {
      "cell_type": "code",
      "execution_count": null,
      "id": "505dc2ca",
      "metadata": {
        "id": "505dc2ca"
      },
      "outputs": [],
      "source": [
        "os.chdir('./data')"
      ]
    },
    {
      "cell_type": "code",
      "execution_count": null,
      "id": "9bf23ae8",
      "metadata": {
        "id": "9bf23ae8"
      },
      "outputs": [],
      "source": [
        "user_itemset_train = pd.read_csv('user_itemset_training.csv', header=None)\n",
        "user_itemset_train.columns = ['user','itemset']\n",
        "\n",
        "user_itemset_valid = pd.read_csv('user_itemset_valid_query.csv', header=None)\n",
        "user_itemset_valid.columns = ['user','itemset']\n",
        "\n",
        "user_itemset_test = pd.read_csv('user_itemset_test_query.csv')\n",
        "user_itemset_test.columns = ['user','itemset']"
      ]
    },
    {
      "cell_type": "code",
      "execution_count": null,
      "id": "015b5d77",
      "metadata": {
        "id": "015b5d77",
        "outputId": "ca704abe-2d18-4b58-d53a-85f78433cd3d"
      },
      "outputs": [
        {
          "data": {
            "text/html": [
              "<div>\n",
              "<style scoped>\n",
              "    .dataframe tbody tr th:only-of-type {\n",
              "        vertical-align: middle;\n",
              "    }\n",
              "\n",
              "    .dataframe tbody tr th {\n",
              "        vertical-align: top;\n",
              "    }\n",
              "\n",
              "    .dataframe thead th {\n",
              "        text-align: right;\n",
              "    }\n",
              "</style>\n",
              "<table border=\"1\" class=\"dataframe\">\n",
              "  <thead>\n",
              "    <tr style=\"text-align: right;\">\n",
              "      <th></th>\n",
              "      <th>0</th>\n",
              "    </tr>\n",
              "  </thead>\n",
              "  <tbody>\n",
              "    <tr>\n",
              "      <th>0</th>\n",
              "      <td>1</td>\n",
              "    </tr>\n",
              "    <tr>\n",
              "      <th>1</th>\n",
              "      <td>0</td>\n",
              "    </tr>\n",
              "    <tr>\n",
              "      <th>2</th>\n",
              "      <td>1</td>\n",
              "    </tr>\n",
              "    <tr>\n",
              "      <th>3</th>\n",
              "      <td>0</td>\n",
              "    </tr>\n",
              "    <tr>\n",
              "      <th>4</th>\n",
              "      <td>1</td>\n",
              "    </tr>\n",
              "    <tr>\n",
              "      <th>...</th>\n",
              "      <td>...</td>\n",
              "    </tr>\n",
              "    <tr>\n",
              "      <th>335935</th>\n",
              "      <td>0</td>\n",
              "    </tr>\n",
              "    <tr>\n",
              "      <th>335936</th>\n",
              "      <td>1</td>\n",
              "    </tr>\n",
              "    <tr>\n",
              "      <th>335937</th>\n",
              "      <td>0</td>\n",
              "    </tr>\n",
              "    <tr>\n",
              "      <th>335938</th>\n",
              "      <td>1</td>\n",
              "    </tr>\n",
              "    <tr>\n",
              "      <th>335939</th>\n",
              "      <td>0</td>\n",
              "    </tr>\n",
              "  </tbody>\n",
              "</table>\n",
              "<p>335940 rows × 1 columns</p>\n",
              "</div>"
            ],
            "text/plain": [
              "        0\n",
              "0       1\n",
              "1       0\n",
              "2       1\n",
              "3       0\n",
              "4       1\n",
              "...    ..\n",
              "335935  0\n",
              "335936  1\n",
              "335937  0\n",
              "335938  1\n",
              "335939  0\n",
              "\n",
              "[335940 rows x 1 columns]"
            ]
          },
          "execution_count": 4,
          "metadata": {},
          "output_type": "execute_result"
        }
      ],
      "source": [
        "user_itemset_valid_answer = pd.read_csv('user_itemset_valid_answer.csv', header=None)\n",
        "user_itemset_valid_answer"
      ]
    },
    {
      "cell_type": "code",
      "execution_count": null,
      "id": "d9996dae",
      "metadata": {
        "id": "d9996dae"
      },
      "outputs": [],
      "source": [
        "user_itemset_train2 = user_itemset_train.copy()"
      ]
    },
    {
      "cell_type": "code",
      "execution_count": null,
      "id": "f85c7734",
      "metadata": {
        "id": "f85c7734"
      },
      "outputs": [],
      "source": [
        "user_itemset_train['itemset'] = ['Item'+str(i) for i in user_itemset_train['itemset']]\n",
        "train_user = set(user_itemset_train['user'])\n",
        "train_itemset = set(user_itemset_train['itemset'])"
      ]
    },
    {
      "cell_type": "code",
      "execution_count": null,
      "id": "4a9d6505",
      "metadata": {
        "id": "4a9d6505",
        "outputId": "9320c565-6ab1-4322-e936-9a14f5961aaa"
      },
      "outputs": [
        {
          "data": {
            "text/html": [
              "<div>\n",
              "<style scoped>\n",
              "    .dataframe tbody tr th:only-of-type {\n",
              "        vertical-align: middle;\n",
              "    }\n",
              "\n",
              "    .dataframe tbody tr th {\n",
              "        vertical-align: top;\n",
              "    }\n",
              "\n",
              "    .dataframe thead th {\n",
              "        text-align: right;\n",
              "    }\n",
              "</style>\n",
              "<table border=\"1\" class=\"dataframe\">\n",
              "  <thead>\n",
              "    <tr style=\"text-align: right;\">\n",
              "      <th></th>\n",
              "      <th>user</th>\n",
              "      <th>itemset</th>\n",
              "    </tr>\n",
              "  </thead>\n",
              "  <tbody>\n",
              "    <tr>\n",
              "      <th>0</th>\n",
              "      <td>41813</td>\n",
              "      <td>9149</td>\n",
              "    </tr>\n",
              "    <tr>\n",
              "      <th>1</th>\n",
              "      <td>48831</td>\n",
              "      <td>20181</td>\n",
              "    </tr>\n",
              "    <tr>\n",
              "      <th>2</th>\n",
              "      <td>43284</td>\n",
              "      <td>23209</td>\n",
              "    </tr>\n",
              "    <tr>\n",
              "      <th>3</th>\n",
              "      <td>24833</td>\n",
              "      <td>3285</td>\n",
              "    </tr>\n",
              "    <tr>\n",
              "      <th>4</th>\n",
              "      <td>7304</td>\n",
              "      <td>22173</td>\n",
              "    </tr>\n",
              "    <tr>\n",
              "      <th>...</th>\n",
              "      <td>...</td>\n",
              "      <td>...</td>\n",
              "    </tr>\n",
              "    <tr>\n",
              "      <th>1343763</th>\n",
              "      <td>15391</td>\n",
              "      <td>20491</td>\n",
              "    </tr>\n",
              "    <tr>\n",
              "      <th>1343764</th>\n",
              "      <td>43856</td>\n",
              "      <td>21623</td>\n",
              "    </tr>\n",
              "    <tr>\n",
              "      <th>1343765</th>\n",
              "      <td>52852</td>\n",
              "      <td>5935</td>\n",
              "    </tr>\n",
              "    <tr>\n",
              "      <th>1343766</th>\n",
              "      <td>36640</td>\n",
              "      <td>7656</td>\n",
              "    </tr>\n",
              "    <tr>\n",
              "      <th>1343767</th>\n",
              "      <td>32480</td>\n",
              "      <td>18009</td>\n",
              "    </tr>\n",
              "  </tbody>\n",
              "</table>\n",
              "<p>1343768 rows × 2 columns</p>\n",
              "</div>"
            ],
            "text/plain": [
              "          user  itemset\n",
              "0        41813     9149\n",
              "1        48831    20181\n",
              "2        43284    23209\n",
              "3        24833     3285\n",
              "4         7304    22173\n",
              "...        ...      ...\n",
              "1343763  15391    20491\n",
              "1343764  43856    21623\n",
              "1343765  52852     5935\n",
              "1343766  36640     7656\n",
              "1343767  32480    18009\n",
              "\n",
              "[1343768 rows x 2 columns]"
            ]
          },
          "execution_count": 7,
          "metadata": {},
          "output_type": "execute_result"
        }
      ],
      "source": [
        "user_itemset_train2"
      ]
    },
    {
      "cell_type": "code",
      "execution_count": null,
      "id": "bdcc1aef",
      "metadata": {
        "id": "bdcc1aef"
      },
      "outputs": [],
      "source": [
        "col_matrix = np.zeros((len(train_user),len(train_itemset)))\n",
        "for i in range(len(user_itemset_train2)):\n",
        "    col_matrix[user_itemset_train2['user'][i],user_itemset_train2['itemset'][i]]=1"
      ]
    },
    {
      "cell_type": "code",
      "execution_count": null,
      "id": "54c499fa",
      "metadata": {
        "id": "54c499fa",
        "outputId": "3668b6dc-8ba6-43fb-85bd-6e10714fe7d6"
      },
      "outputs": [
        {
          "data": {
            "text/plain": [
              "True"
            ]
          },
          "execution_count": 9,
          "metadata": {},
          "output_type": "execute_result"
        }
      ],
      "source": [
        "np.count_nonzero(col_matrix)==len(user_itemset_train2)"
      ]
    },
    {
      "cell_type": "code",
      "execution_count": null,
      "id": "9d163c71",
      "metadata": {
        "id": "9d163c71"
      },
      "outputs": [],
      "source": [
        "B2 = nx.Graph()\n",
        "B2.add_nodes_from(train_user,bipartite=0)\n",
        "B2.add_nodes_from(train_itemset, bipartite=1)\n",
        "\n",
        "for i in range(len(user_itemset_train)):\n",
        "    B2.add_edge(user_itemset_train['user'][i], user_itemset_train['itemset'][i])\n",
        "\n",
        "#pickle.dump(B2, open('B2.pickle', 'wb'))"
      ]
    },
    {
      "cell_type": "markdown",
      "source": [
        "### **Apply Node2Vec**"
      ],
      "metadata": {
        "id": "rn38FHwGTaUW"
      },
      "id": "rn38FHwGTaUW"
    },
    {
      "cell_type": "code",
      "execution_count": null,
      "id": "f596cde1",
      "metadata": {
        "colab": {
          "referenced_widgets": [
            "b3a16f66d5554cb988ca4a9d91e76ba8"
          ]
        },
        "id": "f596cde1",
        "outputId": "1afed61f-fb48-463b-aa24-ebdc39e99111"
      },
      "outputs": [
        {
          "data": {
            "application/vnd.jupyter.widget-view+json": {
              "model_id": "b3a16f66d5554cb988ca4a9d91e76ba8",
              "version_major": 2,
              "version_minor": 0
            },
            "text/plain": [
              "Computing transition probabilities:   0%|          | 0/81591 [00:00<?, ?it/s]"
            ]
          },
          "metadata": {},
          "output_type": "display_data"
        },
        {
          "name": "stderr",
          "output_type": "stream",
          "text": [
            "Generating walks (CPU: 5): 100%|██████████| 2/2 [00:20<00:00, 10.22s/it]/data/home/sjhan/.conda/envs/py38/lib/python3.8/site-packages/joblib/externals/loky/process_executor.py:702: UserWarning: A worker stopped while some jobs were given to the executor. This can be caused by a too short worker timeout or by a memory leak.\n",
            "  warnings.warn(\n",
            "Generating walks (CPU: 6): 100%|██████████| 2/2 [00:20<00:00, 10.44s/it]\n",
            "Generating walks (CPU: 7): 100%|██████████| 2/2 [00:20<00:00, 10.28s/it]\n",
            "Generating walks (CPU: 8): 100%|██████████| 2/2 [00:20<00:00, 10.37s/it]\n",
            "Generating walks (CPU: 9): 100%|██████████| 2/2 [00:20<00:00, 10.29s/it]\n",
            "Generating walks (CPU: 10): 100%|██████████| 2/2 [00:20<00:00, 10.37s/it]\n",
            "Generating walks (CPU: 11): 100%|██████████| 1/1 [00:10<00:00, 10.31s/it]\n",
            "Generating walks (CPU: 12): 100%|██████████| 1/1 [00:10<00:00, 10.45s/it]\n",
            "Generating walks (CPU: 13): 100%|██████████| 1/1 [00:10<00:00, 10.12s/it]\n",
            "Generating walks (CPU: 14): 100%|██████████| 1/1 [00:10<00:00, 10.31s/it]\n",
            "Generating walks (CPU: 15): 100%|██████████| 1/1 [00:10<00:00, 10.22s/it]\n",
            "Generating walks (CPU: 16): 100%|██████████| 1/1 [00:10<00:00, 10.38s/it]\n",
            "Generating walks (CPU: 18): 100%|██████████| 1/1 [00:10<00:00, 10.18s/it]\n",
            "\n",
            "Generating walks (CPU: 19): 100%|██████████| 1/1 [00:10<00:00, 10.35s/it]\n",
            "Generating walks (CPU: 20): 100%|██████████| 1/1 [00:10<00:00, 10.23s/it]\n",
            "\n",
            "\n",
            "\n",
            "\n",
            "\n"
          ]
        }
      ],
      "source": [
        "from node2vec import Node2Vec\n",
        "\n",
        "# FILES\n",
        "EMBEDDING_FILENAME = './embeddings-b2.emb'\n",
        "EMBEDDING_MODEL_FILENAME = './embeddings-b2.model'\n",
        "\n",
        "# Precompute probabilities and generate walks\n",
        "node2vec = Node2Vec(B2, dimensions=128, walk_length=10, num_walks=30, workers=20)\n",
        "\n",
        "# Embed\n",
        "model = node2vec.fit(window=10, min_count=1, batch_words=20)  # Any keywords acceptable by gensim.Word2Vec can be passed, `diemnsions` and `workers` are automatically passed (from the Node2Vec constructor)\n",
        "\n",
        "# Save embeddings for later use\n",
        "model.wv.save_word2vec_format(EMBEDDING_FILENAME)\n",
        "\n",
        "# Save model for later use\n",
        "model.save(EMBEDDING_MODEL_FILENAME)"
      ]
    },
    {
      "cell_type": "markdown",
      "id": "7af830ce",
      "metadata": {
        "id": "7af830ce"
      },
      "source": [
        "## **Load the best Node2Vec model**"
      ]
    },
    {
      "cell_type": "code",
      "execution_count": null,
      "id": "703cdbca",
      "metadata": {
        "id": "703cdbca"
      },
      "outputs": [],
      "source": [
        "from gensim.models import Word2Vec\n",
        "#from node2vec import Node2Vec\n",
        "\n",
        "EMBEDDING_FILENAME = './embeddings-b2.emb'\n",
        "EMBEDDING_MODEL_FILENAME = './embeddings-b2.model'\n",
        "\n",
        "# Load model after Node2Vec.save\n",
        "model = Word2Vec.load(EMBEDDING_MODEL_FILENAME)\n",
        "\n",
        "# Load model after Node2Vec.wv.save_word2vec_format\n",
        "#model.wv = Word2Vec.wv.load_word2vec_format(EMBEDDING_FILENAME)"
      ]
    },
    {
      "cell_type": "code",
      "execution_count": null,
      "id": "86db0306",
      "metadata": {
        "id": "86db0306",
        "outputId": "bbff589d-30e7-4e88-bf6c-1b6e176a2ba1"
      },
      "outputs": [
        {
          "data": {
            "text/plain": [
              "dict_keys(['Item16759', '20630', 'Item1652', '40275', 'Item24971', 'Item19603', 'Item25153', 'Item14362', '13922', 'Item16387'])"
            ]
          },
          "execution_count": 10,
          "metadata": {},
          "output_type": "execute_result"
        }
      ],
      "source": [
        "dict(model.wv.most_similar(user_itemset_valid['user'][0])).keys()"
      ]
    },
    {
      "cell_type": "code",
      "execution_count": null,
      "id": "aaaa66bb",
      "metadata": {
        "id": "aaaa66bb",
        "outputId": "33c2fc69-05d7-4729-a044-000a6ca8747d"
      },
      "outputs": [
        {
          "data": {
            "text/plain": [
              "dict_keys(['Item5754', 'Item16411', 'Item10182', 'Item18481', 'Item14771', 'Item11457', 'Item4957', '45068', 'Item3986', 'Item21289'])"
            ]
          },
          "execution_count": 11,
          "metadata": {},
          "output_type": "execute_result"
        }
      ],
      "source": [
        "dict(model.wv.most_similar(user_itemset_valid['itemset'][0])).keys()"
      ]
    },
    {
      "cell_type": "markdown",
      "id": "e877cc16",
      "metadata": {
        "id": "e877cc16"
      },
      "source": [
        "### - Find the items"
      ]
    },
    {
      "cell_type": "code",
      "execution_count": null,
      "id": "c8ec5efe",
      "metadata": {
        "id": "c8ec5efe"
      },
      "outputs": [],
      "source": [
        "def predict(x,y,corr,user_n,item_n):\n",
        "    y_hat = 0\n",
        "    similar_with_user = list(dict(model.wv.most_similar(x,topn=user_n)).keys())\n",
        "    similar_with_itemset = list(dict(model.wv.most_similar('Item'+str(y),topn=item_n)).keys())\n",
        "    similar_list = similar_with_user + similar_with_itemset\n",
        "    #print(similar_list)\n",
        "\n",
        "    for i in range(len(similar_list)):\n",
        "        if similar_list[i].startswith('I'): #Itemset\n",
        "            target = int(similar_list[i].replace('Item',''))\n",
        "            y_hat += corr[x,target]\n",
        "            #print('User:',x,'target:',target,'Cor',corr[x,target])\n",
        "        else:\n",
        "            y_hat += corr[int(similar_list[i]),y]\n",
        "            #print('target:',int(similar_list[i]),'Itemset:',y,'Cor',corr[int(similar_list[i]),y])\n",
        "\n",
        "    if y_hat > (user_n + item_n)*0.2:\n",
        "        y = 1\n",
        "    else:\n",
        "        y = 0\n",
        "    return y"
      ]
    },
    {
      "cell_type": "markdown",
      "id": "3ab9220e",
      "metadata": {
        "id": "3ab9220e"
      },
      "source": [
        "### For validation set"
      ]
    },
    {
      "cell_type": "code",
      "execution_count": null,
      "id": "80dc1c1f",
      "metadata": {
        "id": "80dc1c1f"
      },
      "outputs": [],
      "source": [
        "from tqdm import tqdm\n",
        "y_hat_list1 = [] #25,50\n",
        "\n",
        "for i in tqdm(range(len(user_itemset_valid))):\n",
        "    y_hat_list1.append(predict(user_itemset_valid['user'][i],user_itemset_valid['itemset'][i],col_matrix,50,100))"
      ]
    },
    {
      "cell_type": "code",
      "execution_count": null,
      "id": "866d72e2",
      "metadata": {
        "id": "866d72e2"
      },
      "outputs": [],
      "source": [
        "result1 = sum(np.equal(list(user_itemset_valid_answer[0]),y_hat_list1))/len(user_itemset_valid_answer)"
      ]
    },
    {
      "cell_type": "markdown",
      "id": "a4321462",
      "metadata": {
        "id": "a4321462"
      },
      "source": [
        "### For test set"
      ]
    },
    {
      "cell_type": "code",
      "execution_count": null,
      "id": "8d95deb1",
      "metadata": {
        "id": "8d95deb1",
        "outputId": "30283a25-6860-4934-ba0f-f10c57c87a5b"
      },
      "outputs": [
        {
          "name": "stderr",
          "output_type": "stream",
          "text": [
            "  7%|██▏                               | 21905/335940 [08:41<2:06:29, 41.38it/s]"
          ]
        }
      ],
      "source": [
        "from tqdm import tqdm\n",
        "y_hat_list= [] #50,100\n",
        "\n",
        "for i in tqdm(range(len(user_itemset_test))):\n",
        "    y_hat_list.append(predict(user_itemset_test['user'][i],user_itemset_test['itemset'][i],col_matrix,50,100))"
      ]
    },
    {
      "cell_type": "code",
      "execution_count": null,
      "id": "5991711f",
      "metadata": {
        "id": "5991711f"
      },
      "outputs": [],
      "source": [
        "df = pd.DataFrame(y_hat_list)\n",
        "df.to_csv('user_item_test_prediction.csv',header=False, index=False)"
      ]
    }
  ],
  "metadata": {
    "kernelspec": {
      "display_name": "Python 3 (ipykernel)",
      "language": "python",
      "name": "python3"
    },
    "language_info": {
      "codemirror_mode": {
        "name": "ipython",
        "version": 3
      },
      "file_extension": ".py",
      "mimetype": "text/x-python",
      "name": "python",
      "nbconvert_exporter": "python",
      "pygments_lexer": "ipython3",
      "version": "3.8.15"
    },
    "colab": {
      "provenance": []
    }
  },
  "nbformat": 4,
  "nbformat_minor": 5
}